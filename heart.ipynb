{
 "cells": [
  {
   "cell_type": "markdown",
   "metadata": {},
   "source": [
    "# Projeto MTR"
   ]
  },
  {
   "cell_type": "markdown",
   "metadata": {},
   "source": [
    "0. Pegar o dataset de heart disease (e possivelmente de airbnb)\n",
    "1. Manipular os dados para deixá-los prontos para treinamento por modelos de ML \n",
    "2. Pesquisar e escolher os modelos para serem testados (de preferência modelos que sabemos ter erros correlacionados)\n",
    "3. Treinar modelos (tentar achar os melhores hiperparâmetros, usar validação cruzada de 5 ou 10 folds)\n",
    "4. Construir assessores (treinados para tentar prever o erro dos modelos) (também tentar achar melhores hiperparâmetros):\n",
    "\n",
    "    4.1. Um assessor para cada modelo (RandomForestRegressor ou algum outro)\n",
    "    \n",
    "    4.2. Um assessor multi-target para todos os modelos (RegressorChains (outputs relacionados) **e** Single Target Method (outputs independentes))\n",
    "    \n",
    "    4.3. Um assessor para cada \"família\" ou grupo de modelos de ML com erros correlacionados (RegressorChains)\n",
    "\n",
    "5. Coletar resultados e tirar conclusões para apresentar"
   ]
  },
  {
   "cell_type": "markdown",
   "metadata": {},
   "source": [
    "## Imports e funções"
   ]
  },
  {
   "cell_type": "code",
   "execution_count": 1,
   "metadata": {},
   "outputs": [],
   "source": [
    "from utils import *"
   ]
  },
  {
   "cell_type": "markdown",
   "metadata": {},
   "source": [
    "# Dataset"
   ]
  },
  {
   "cell_type": "markdown",
   "metadata": {},
   "source": [
    "**Attribute Information:**\n",
    "\n",
    "- 1. age       \n",
    "- 2. sex       \n",
    "- 3. chest pain type  (4 values)       \n",
    "- 4. resting blood pressure  \n",
    "- 5. serum cholestoral in mg/dl      \n",
    "- 6. fasting blood sugar > 120 mg/dl       \n",
    "- 7. resting electrocardiographic results  (values 0,1,2)\n",
    "- 8. maximum heart rate achieved  \n",
    "- 9. exercise induced angina    \n",
    "- 10. oldpeak = ST depression induced by exercise relative to rest   \n",
    "- 11. the slope of the peak exercise ST segment     \n",
    "- 12. number of major vessels (0-3) colored by flourosopy        \n",
    "- 13.  thal: 3 = normal; 6 = fixed defect; 7 = reversable defect\n",
    "\n",
    "**Attributes types:**\n",
    "\n",
    "Real: 1,4,5,8,10,12\n",
    "\n",
    "Ordered:11,\n",
    "\n",
    "Binary: 2,6,9\n",
    "\n",
    "Nominal:7,3,13\n",
    "\n",
    "**Variable to be predicted:**\n",
    "\n",
    "Absence (1) or presence (2) of heart disease"
   ]
  },
  {
   "cell_type": "code",
   "execution_count": 2,
   "metadata": {},
   "outputs": [
    {
     "name": "stdout",
     "output_type": "stream",
     "text": [
      "1376750276\n"
     ]
    }
   ],
   "source": [
    "seed = randint(0, 4294967295)\n",
    "print(seed)"
   ]
  },
  {
   "cell_type": "code",
   "execution_count": 3,
   "metadata": {},
   "outputs": [
    {
     "name": "stdout",
     "output_type": "stream",
     "text": [
      "Nº de instâncias: 270\n"
     ]
    },
    {
     "data": {
      "text/html": [
       "<div>\n",
       "<style scoped>\n",
       "    .dataframe tbody tr th:only-of-type {\n",
       "        vertical-align: middle;\n",
       "    }\n",
       "\n",
       "    .dataframe tbody tr th {\n",
       "        vertical-align: top;\n",
       "    }\n",
       "\n",
       "    .dataframe thead th {\n",
       "        text-align: right;\n",
       "    }\n",
       "</style>\n",
       "<table border=\"1\" class=\"dataframe\">\n",
       "  <thead>\n",
       "    <tr style=\"text-align: right;\">\n",
       "      <th></th>\n",
       "      <th>age</th>\n",
       "      <th>sex</th>\n",
       "      <th>chest_pain</th>\n",
       "      <th>blood_pressure</th>\n",
       "      <th>cholestoral</th>\n",
       "      <th>blood_sugar</th>\n",
       "      <th>eletro_results</th>\n",
       "      <th>max_heart_rate</th>\n",
       "      <th>exer_angina</th>\n",
       "      <th>oldpeak</th>\n",
       "      <th>slope_peak</th>\n",
       "      <th>major_vessels</th>\n",
       "      <th>thal</th>\n",
       "      <th>target</th>\n",
       "    </tr>\n",
       "  </thead>\n",
       "  <tbody>\n",
       "    <tr>\n",
       "      <th>0</th>\n",
       "      <td>70.0</td>\n",
       "      <td>1.0</td>\n",
       "      <td>4.0</td>\n",
       "      <td>130.0</td>\n",
       "      <td>322.0</td>\n",
       "      <td>0.0</td>\n",
       "      <td>2.0</td>\n",
       "      <td>109.0</td>\n",
       "      <td>0.0</td>\n",
       "      <td>2.4</td>\n",
       "      <td>2.0</td>\n",
       "      <td>3.0</td>\n",
       "      <td>3.0</td>\n",
       "      <td>1</td>\n",
       "    </tr>\n",
       "    <tr>\n",
       "      <th>1</th>\n",
       "      <td>67.0</td>\n",
       "      <td>0.0</td>\n",
       "      <td>3.0</td>\n",
       "      <td>115.0</td>\n",
       "      <td>564.0</td>\n",
       "      <td>0.0</td>\n",
       "      <td>2.0</td>\n",
       "      <td>160.0</td>\n",
       "      <td>0.0</td>\n",
       "      <td>1.6</td>\n",
       "      <td>2.0</td>\n",
       "      <td>0.0</td>\n",
       "      <td>7.0</td>\n",
       "      <td>0</td>\n",
       "    </tr>\n",
       "    <tr>\n",
       "      <th>2</th>\n",
       "      <td>57.0</td>\n",
       "      <td>1.0</td>\n",
       "      <td>2.0</td>\n",
       "      <td>124.0</td>\n",
       "      <td>261.0</td>\n",
       "      <td>0.0</td>\n",
       "      <td>0.0</td>\n",
       "      <td>141.0</td>\n",
       "      <td>0.0</td>\n",
       "      <td>0.3</td>\n",
       "      <td>1.0</td>\n",
       "      <td>0.0</td>\n",
       "      <td>7.0</td>\n",
       "      <td>1</td>\n",
       "    </tr>\n",
       "    <tr>\n",
       "      <th>3</th>\n",
       "      <td>64.0</td>\n",
       "      <td>1.0</td>\n",
       "      <td>4.0</td>\n",
       "      <td>128.0</td>\n",
       "      <td>263.0</td>\n",
       "      <td>0.0</td>\n",
       "      <td>0.0</td>\n",
       "      <td>105.0</td>\n",
       "      <td>1.0</td>\n",
       "      <td>0.2</td>\n",
       "      <td>2.0</td>\n",
       "      <td>1.0</td>\n",
       "      <td>7.0</td>\n",
       "      <td>0</td>\n",
       "    </tr>\n",
       "    <tr>\n",
       "      <th>4</th>\n",
       "      <td>74.0</td>\n",
       "      <td>0.0</td>\n",
       "      <td>2.0</td>\n",
       "      <td>120.0</td>\n",
       "      <td>269.0</td>\n",
       "      <td>0.0</td>\n",
       "      <td>2.0</td>\n",
       "      <td>121.0</td>\n",
       "      <td>1.0</td>\n",
       "      <td>0.2</td>\n",
       "      <td>1.0</td>\n",
       "      <td>1.0</td>\n",
       "      <td>3.0</td>\n",
       "      <td>0</td>\n",
       "    </tr>\n",
       "  </tbody>\n",
       "</table>\n",
       "</div>"
      ],
      "text/plain": [
       "    age  sex  chest_pain  blood_pressure  cholestoral  blood_sugar  \\\n",
       "0  70.0  1.0         4.0           130.0        322.0          0.0   \n",
       "1  67.0  0.0         3.0           115.0        564.0          0.0   \n",
       "2  57.0  1.0         2.0           124.0        261.0          0.0   \n",
       "3  64.0  1.0         4.0           128.0        263.0          0.0   \n",
       "4  74.0  0.0         2.0           120.0        269.0          0.0   \n",
       "\n",
       "   eletro_results  max_heart_rate  exer_angina  oldpeak  slope_peak  \\\n",
       "0             2.0           109.0          0.0      2.4         2.0   \n",
       "1             2.0           160.0          0.0      1.6         2.0   \n",
       "2             0.0           141.0          0.0      0.3         1.0   \n",
       "3             0.0           105.0          1.0      0.2         2.0   \n",
       "4             2.0           121.0          1.0      0.2         1.0   \n",
       "\n",
       "   major_vessels  thal  target  \n",
       "0            3.0   3.0       1  \n",
       "1            0.0   7.0       0  \n",
       "2            0.0   7.0       1  \n",
       "3            1.0   7.0       0  \n",
       "4            1.0   3.0       0  "
      ]
     },
     "execution_count": 3,
     "metadata": {},
     "output_type": "execute_result"
    }
   ],
   "source": [
    "cols = ['age', 'sex', 'chest_pain', 'blood_pressure', \n",
    "        'cholestoral', 'blood_sugar', 'eletro_results',\n",
    "        'max_heart_rate', 'exer_angina', 'oldpeak',\n",
    "        'slope_peak', 'major_vessels', 'thal']\n",
    "\n",
    "df = pd.read_csv('data/heart/heart.dat', names=cols+['target'], sep=' ')\n",
    "\n",
    "df['target'] = df['target'].apply(lambda x: 1 if x==2 else 0)\n",
    "\n",
    "print(f'Nº de instâncias: {len(df)}')\n",
    "df.head()"
   ]
  },
  {
   "cell_type": "code",
   "execution_count": 4,
   "metadata": {},
   "outputs": [
    {
     "data": {
      "text/plain": [
       "<Axes: >"
      ]
     },
     "execution_count": 4,
     "metadata": {},
     "output_type": "execute_result"
    },
    {
     "data": {
      "image/png": "[encoded data removed]",
      "text/plain": [
       "<Figure size 640x480 with 1 Axes>"
      ]
     },
     "metadata": {},
     "output_type": "display_data"
    }
   ],
   "source": [
    "df['target'].hist()"
   ]
  },
  {
   "cell_type": "code",
   "execution_count": 5,
   "metadata": {},
   "outputs": [
    {
     "data": {
      "text/plain": [
       "<Axes: >"
      ]
     },
     "execution_count": 5,
     "metadata": {},
     "output_type": "execute_result"
    },
    {
     "data": {
      "image/png": "[encoded data removed]",
      "text/plain": [
       "<Figure size 1800x300 with 1 Axes>"
      ]
     },
     "metadata": {},
     "output_type": "display_data"
    }
   ],
   "source": [
    "plt.figure(figsize=(18,3))\n",
    "df[cols].boxplot()"
   ]
  },
  {
   "cell_type": "code",
   "execution_count": 6,
   "metadata": {},
   "outputs": [
    {
     "data": {
      "text/plain": [
       "<Axes: >"
      ]
     },
     "execution_count": 6,
     "metadata": {},
     "output_type": "execute_result"
    },
    {
     "data": {
      "image/png": "[encoded data removed]",
      "text/plain": [
       "<Figure size 1200x500 with 2 Axes>"
      ]
     },
     "metadata": {},
     "output_type": "display_data"
    }
   ],
   "source": [
    "plt.figure(figsize=(12,5))\n",
    "sns.heatmap(df.corr('spearman'), annot=True)"
   ]
  },
  {
   "cell_type": "code",
   "execution_count": 7,
   "metadata": {},
   "outputs": [
    {
     "data": {
      "text/plain": [
       "age               float64\n",
       "sex               float64\n",
       "chest_pain        float64\n",
       "blood_pressure    float64\n",
       "cholestoral       float64\n",
       "blood_sugar       float64\n",
       "eletro_results    float64\n",
       "max_heart_rate    float64\n",
       "exer_angina       float64\n",
       "oldpeak           float64\n",
       "slope_peak        float64\n",
       "major_vessels     float64\n",
       "thal              float64\n",
       "target            float64\n",
       "dtype: object"
      ]
     },
     "execution_count": 7,
     "metadata": {},
     "output_type": "execute_result"
    }
   ],
   "source": [
    "df.corr('spearman').dtypes"
   ]
  },
  {
   "cell_type": "markdown",
   "metadata": {},
   "source": [
    "correlação regular entre:\n",
    "- target e [chest_pain, max_heart_rate, exer_angina, oldpeak, major_vessels, thal]\n",
    "- chest_pain e exer_angina\n",
    "- max_heart_rate e [age, oldpeak, slope_peak]\n",
    "- oldpeak e slope_peak"
   ]
  },
  {
   "cell_type": "code",
   "execution_count": 8,
   "metadata": {},
   "outputs": [],
   "source": [
    "# 1/3 | 1/3 | 1/3\n",
    "BASE_ASSESSOR_SPLIT = 0.3\n",
    "BASE_TEST_SIZE = 0.5\n",
    "\n",
    "temp = df[df.target==1]\n",
    "train_pos, test_pos = train_test_split(temp, test_size=BASE_ASSESSOR_SPLIT, shuffle=True, random_state=seed)\n",
    "\n",
    "temp = df[df.target==0]\n",
    "train_neg, test_neg = train_test_split(temp, test_size=BASE_ASSESSOR_SPLIT, shuffle=True, random_state=seed)\n",
    "\n",
    "Xb_train, Xb_test, yb_train, yb_test = train_test_split(pd.concat([train_pos[cols], train_neg[cols]], ignore_index=True), # X\n",
    "                                                            pd.concat([train_pos['target'], train_neg['target']], ignore_index=True), # y\n",
    "                                                            test_size=BASE_TEST_SIZE, shuffle=True, random_state=seed)\n",
    "\n",
    "Xa_test = pd.concat([test_pos[cols], test_neg[cols]], ignore_index=True)\n",
    "ya_test = pd.concat([test_pos['target'], test_neg['target']], ignore_index=True)"
   ]
  },
  {
   "cell_type": "code",
   "execution_count": 9,
   "metadata": {},
   "outputs": [],
   "source": [
    "scaler = StandardScaler()\n",
    "\n",
    "Xb_train_norm = scaler.fit_transform(Xb_train, yb_train)\n",
    "Xb_test_norm = scaler.transform(Xb_test)\n",
    "\n",
    "# se eu fosse normalizar os dados de teste do assessor, eu usaria o mesmo scaler?"
   ]
  },
  {
   "cell_type": "markdown",
   "metadata": {},
   "source": [
    "# Base Models"
   ]
  },
  {
   "cell_type": "code",
   "execution_count": 10,
   "metadata": {},
   "outputs": [],
   "source": [
    "performs = {}"
   ]
  },
  {
   "cell_type": "code",
   "execution_count": 11,
   "metadata": {},
   "outputs": [],
   "source": [
    "pred_hits = pd.DataFrame()"
   ]
  },
  {
   "cell_type": "code",
   "execution_count": 12,
   "metadata": {},
   "outputs": [],
   "source": [
    "def register_performance(train_set:list|tuple, test_set:list|tuple, model, model_name:str, pdict:dict=performs):\n",
    "    assert (len(train_set)==2) & (len(test_set)==2)\n",
    "\n",
    "    # train_set\n",
    "    pred = model.predict(train_set[0])\n",
    "\n",
    "    #try:\n",
    "    #    pred_proba = model.predict_proba(train_set[0])[:, 1]\n",
    "    #    pred_proba = [1-max(prob) for prob in pred_proba]\n",
    "    #except AttributeError:\n",
    "    #    pred_proba = model.decision_function(train_set[0])\n",
    "    #    check = False\n",
    "    #else:\n",
    "    #    check = True\n",
    "\n",
    "    pred_proba = model.predict_proba(train_set[0])\n",
    "    minprob = [1-max(prob) for prob in pred_proba]\n",
    "\n",
    "    metrics = compute_performance_metrics(train_set[1], pred, pred_proba[:,1])\n",
    "\n",
    "    print('[Training]')\n",
    "    print_metrics_summary(metrics[0], metrics[1], metrics[2], metrics[3], metrics[4], metrics[5])\n",
    "    print('{metric:<18}{value:.4f}'.format(metric=\"1-maxProb média:\", value=np.mean(minprob)))\n",
    "    print('{metric:<18}{value:.4f}'.format(metric='1-maxProb dp:', value=np.std(minprob)))\n",
    "    pdict[model_name] = {'train': {'1-maxprob':minprob, 'accuracy':metrics[0], \n",
    "                                   'recall':metrics[1],\n",
    "                                   'precision':metrics[2], 'f1':metrics[3],\n",
    "                                   'auroc':metrics[4], 'aupr':metrics[5]}}\n",
    "    # test_set\n",
    "    pred = model.predict(test_set[0])\n",
    "\n",
    "    #if(check):\n",
    "    pred_proba = model.predict_proba(test_set[0])\n",
    "    minprob = [1-max(prob) for prob in pred_proba]\n",
    "    #else:\n",
    "    #    pred_proba = model.decision_function(test_set[0])\n",
    "\n",
    "    metrics = compute_performance_metrics(test_set[1], pred, pred_proba[:,1])\n",
    "\n",
    "    print('\\n[Testing]')\n",
    "    print_metrics_summary(metrics[0], metrics[1], metrics[2], metrics[3], metrics[4], metrics[5])\n",
    "    print('{metric:<18}{value:.4f}'.format(metric=\"1-maxProb média:\", value=np.mean(minprob)))\n",
    "    print('{metric:<18}{value:.4f}'.format(metric='1-maxProb dp:', value=np.std(minprob)))\n",
    "    pdict[model_name]['test'] = {'1-maxprob':minprob, 'accuracy':metrics[0], \n",
    "                                 'recall':metrics[1],\n",
    "                                 'precision':metrics[2], 'f1':metrics[3],\n",
    "                                 'auroc':metrics[4], 'aupr':metrics[5]}"
   ]
  },
  {
   "cell_type": "markdown",
   "metadata": {},
   "source": [
    "### Decision Tree"
   ]
  },
  {
   "cell_type": "code",
   "execution_count": 13,
   "metadata": {},
   "outputs": [],
   "source": [
    "dtree = DecisionTreeClassifier(random_state=seed).fit(Xb_train, yb_train)"
   ]
  },
  {
   "cell_type": "code",
   "execution_count": 14,
   "metadata": {},
   "outputs": [
    {
     "name": "stdout",
     "output_type": "stream",
     "text": [
      "[Training]\n",
      "\n",
      "Accuracy:         1.0000\n",
      "Recall:           1.0000\n",
      "Precision:        1.0000\n",
      "F1:               1.0000\n",
      "AUROC:            1.0000\n",
      "AUPR:             1.0000\n",
      "1-maxProb média:  0.0000\n",
      "1-maxProb dp:     0.0000\n",
      "\n",
      "[Testing]\n",
      "\n",
      "Accuracy:         0.7789\n",
      "Recall:           0.7660\n",
      "Precision:        0.7826\n",
      "F1:               0.7742\n",
      "AUROC:            0.7788\n",
      "AUPR:             0.7152\n",
      "1-maxProb média:  0.0000\n",
      "1-maxProb dp:     0.0000\n"
     ]
    }
   ],
   "source": [
    "register_performance((Xb_train, yb_train), (Xb_test, yb_test), dtree, 'dtree')"
   ]
  },
  {
   "cell_type": "code",
   "execution_count": 15,
   "metadata": {},
   "outputs": [
    {
     "data": {
      "text/html": [
       "<div>\n",
       "<style scoped>\n",
       "    .dataframe tbody tr th:only-of-type {\n",
       "        vertical-align: middle;\n",
       "    }\n",
       "\n",
       "    .dataframe tbody tr th {\n",
       "        vertical-align: top;\n",
       "    }\n",
       "\n",
       "    .dataframe thead th {\n",
       "        text-align: right;\n",
       "    }\n",
       "</style>\n",
       "<table border=\"1\" class=\"dataframe\">\n",
       "  <thead>\n",
       "    <tr style=\"text-align: right;\">\n",
       "      <th></th>\n",
       "      <th>dtree</th>\n",
       "    </tr>\n",
       "  </thead>\n",
       "  <tbody>\n",
       "    <tr>\n",
       "      <th>31</th>\n",
       "      <td>True</td>\n",
       "    </tr>\n",
       "    <tr>\n",
       "      <th>139</th>\n",
       "      <td>True</td>\n",
       "    </tr>\n",
       "    <tr>\n",
       "      <th>64</th>\n",
       "      <td>True</td>\n",
       "    </tr>\n",
       "    <tr>\n",
       "      <th>94</th>\n",
       "      <td>True</td>\n",
       "    </tr>\n",
       "    <tr>\n",
       "      <th>21</th>\n",
       "      <td>True</td>\n",
       "    </tr>\n",
       "  </tbody>\n",
       "</table>\n",
       "</div>"
      ],
      "text/plain": [
       "     dtree\n",
       "31    True\n",
       "139   True\n",
       "64    True\n",
       "94    True\n",
       "21    True"
      ]
     },
     "execution_count": 15,
     "metadata": {},
     "output_type": "execute_result"
    }
   ],
   "source": [
    "pred_hits['dtree'] = dtree.predict(Xb_test) == yb_test\n",
    "pred_hits.head()"
   ]
  },
  {
   "cell_type": "markdown",
   "metadata": {},
   "source": [
    "### Stochastic Gradient Descent\n",
    "(SGD)"
   ]
  },
  {
   "cell_type": "code",
   "execution_count": 16,
   "metadata": {},
   "outputs": [],
   "source": [
    "sgd = SGDClassifier(random_state=seed, loss='log_loss', n_jobs=-1).fit(Xb_train_norm, yb_train)"
   ]
  },
  {
   "cell_type": "code",
   "execution_count": 17,
   "metadata": {},
   "outputs": [
    {
     "name": "stdout",
     "output_type": "stream",
     "text": [
      "[Training]\n",
      "\n",
      "Accuracy:         0.8298\n",
      "Recall:           0.7838\n",
      "Precision:        0.7838\n",
      "F1:               0.7838\n",
      "AUROC:            0.9090\n",
      "AUPR:             0.8539\n",
      "1-maxProb média:  0.0209\n",
      "1-maxProb dp:     0.0791\n",
      "\n",
      "[Testing]\n",
      "\n",
      "Accuracy:         0.8316\n",
      "Recall:           0.7660\n",
      "Precision:        0.8780\n",
      "F1:               0.8182\n",
      "AUROC:            0.8927\n",
      "AUPR:             0.9113\n",
      "1-maxProb média:  0.0113\n",
      "1-maxProb dp:     0.0411\n"
     ]
    }
   ],
   "source": [
    "register_performance((Xb_train_norm, yb_train), (Xb_test_norm, yb_test), sgd, 'sgd')"
   ]
  },
  {
   "cell_type": "code",
   "execution_count": 18,
   "metadata": {},
   "outputs": [],
   "source": [
    "pred_hits['sgd'] = sgd.predict(Xb_test_norm) == yb_test"
   ]
  },
  {
   "cell_type": "markdown",
   "metadata": {},
   "source": [
    "### Logistic Regression"
   ]
  },
  {
   "cell_type": "code",
   "execution_count": 19,
   "metadata": {},
   "outputs": [],
   "source": [
    "lr = LogisticRegression(random_state=seed, n_jobs=-1).fit(Xb_train_norm, yb_train)"
   ]
  },
  {
   "cell_type": "code",
   "execution_count": 20,
   "metadata": {},
   "outputs": [
    {
     "name": "stdout",
     "output_type": "stream",
     "text": [
      "[Training]\n",
      "\n",
      "Accuracy:         0.8936\n",
      "Recall:           0.8378\n",
      "Precision:        0.8857\n",
      "F1:               0.8611\n",
      "AUROC:            0.9312\n",
      "AUPR:             0.9128\n",
      "1-maxProb média:  0.1397\n",
      "1-maxProb dp:     0.1248\n",
      "\n",
      "[Testing]\n",
      "\n",
      "Accuracy:         0.8316\n",
      "Recall:           0.7872\n",
      "Precision:        0.8605\n",
      "F1:               0.8222\n",
      "AUROC:            0.9074\n",
      "AUPR:             0.9158\n",
      "1-maxProb média:  0.1725\n",
      "1-maxProb dp:     0.1419\n"
     ]
    }
   ],
   "source": [
    "register_performance((Xb_train_norm, yb_train), (Xb_test_norm, yb_test), lr, 'lr')"
   ]
  },
  {
   "cell_type": "code",
   "execution_count": 21,
   "metadata": {},
   "outputs": [],
   "source": [
    "pred_hits['lr'] = lr.predict(Xb_test_norm) == yb_test"
   ]
  },
  {
   "cell_type": "markdown",
   "metadata": {},
   "source": [
    "### K-Nearest Neighbors\n",
    "\n",
    "(KNN)"
   ]
  },
  {
   "cell_type": "code",
   "execution_count": 22,
   "metadata": {},
   "outputs": [],
   "source": [
    "knn = KNeighborsClassifier(n_jobs=-1).fit(Xb_train_norm, yb_train)"
   ]
  },
  {
   "cell_type": "code",
   "execution_count": 23,
   "metadata": {},
   "outputs": [
    {
     "name": "stdout",
     "output_type": "stream",
     "text": [
      "[Training]\n",
      "\n",
      "Accuracy:         0.8617\n",
      "Recall:           0.7568\n",
      "Precision:        0.8750\n",
      "F1:               0.8116\n",
      "AUROC:            0.9182\n",
      "AUPR:             0.8575\n",
      "1-maxProb média:  0.1383\n",
      "1-maxProb dp:     0.1459\n",
      "\n",
      "[Testing]\n",
      "\n",
      "Accuracy:         0.8316\n",
      "Recall:           0.7447\n",
      "Precision:        0.8974\n",
      "F1:               0.8140\n",
      "AUROC:            0.8816\n",
      "AUPR:             0.8775\n",
      "1-maxProb média:  0.1642\n",
      "1-maxProb dp:     0.1615\n"
     ]
    }
   ],
   "source": [
    "register_performance((Xb_train_norm, yb_train), (Xb_test_norm, yb_test), knn, 'knn')"
   ]
  },
  {
   "cell_type": "code",
   "execution_count": 24,
   "metadata": {},
   "outputs": [],
   "source": [
    "pred_hits['knn'] = knn.predict(Xb_test_norm) == yb_test"
   ]
  },
  {
   "cell_type": "markdown",
   "metadata": {},
   "source": [
    "### Support Vector Machine - Linear\n",
    "(SVM)"
   ]
  },
  {
   "cell_type": "code",
   "execution_count": 25,
   "metadata": {},
   "outputs": [],
   "source": [
    "svm_linear = SVC(kernel='linear', probability=True, random_state=seed).fit(Xb_train_norm, yb_train)"
   ]
  },
  {
   "cell_type": "code",
   "execution_count": 26,
   "metadata": {},
   "outputs": [
    {
     "name": "stdout",
     "output_type": "stream",
     "text": [
      "[Training]\n",
      "\n",
      "Accuracy:         0.8936\n",
      "Recall:           0.8108\n",
      "Precision:        0.9091\n",
      "F1:               0.8571\n",
      "AUROC:            0.9151\n",
      "AUPR:             0.8968\n",
      "1-maxProb média:  0.2192\n",
      "1-maxProb dp:     0.1102\n",
      "\n",
      "[Testing]\n",
      "\n",
      "Accuracy:         0.8526\n",
      "Recall:           0.8085\n",
      "Precision:        0.8837\n",
      "F1:               0.8444\n",
      "AUROC:            0.9065\n",
      "AUPR:             0.9190\n",
      "1-maxProb média:  0.2464\n",
      "1-maxProb dp:     0.1264\n"
     ]
    }
   ],
   "source": [
    "register_performance((Xb_train_norm, yb_train), (Xb_test_norm, yb_test), svm_linear , 'svm_linear')"
   ]
  },
  {
   "cell_type": "code",
   "execution_count": 27,
   "metadata": {},
   "outputs": [],
   "source": [
    "pred_hits['svm_linear'] = svm_linear.predict(Xb_test_norm) == yb_test"
   ]
  },
  {
   "cell_type": "markdown",
   "metadata": {},
   "source": [
    "### Support Vector Machine - Polynomial\n",
    "(SVM)"
   ]
  },
  {
   "cell_type": "code",
   "execution_count": 28,
   "metadata": {},
   "outputs": [],
   "source": [
    "svm_poly = SVC(kernel='poly', probability=True, random_state=seed).fit(Xb_train_norm, yb_train)"
   ]
  },
  {
   "cell_type": "code",
   "execution_count": 29,
   "metadata": {},
   "outputs": [
    {
     "name": "stdout",
     "output_type": "stream",
     "text": [
      "[Training]\n",
      "\n",
      "Accuracy:         0.9255\n",
      "Recall:           0.8108\n",
      "Precision:        1.0000\n",
      "F1:               0.8955\n",
      "AUROC:            0.9948\n",
      "AUPR:             0.9921\n",
      "1-maxProb média:  0.1458\n",
      "1-maxProb dp:     0.1084\n",
      "\n",
      "[Testing]\n",
      "\n",
      "Accuracy:         0.7684\n",
      "Recall:           0.5532\n",
      "Precision:        0.9630\n",
      "F1:               0.7027\n",
      "AUROC:            0.8892\n",
      "AUPR:             0.9073\n",
      "1-maxProb média:  0.2181\n",
      "1-maxProb dp:     0.1437\n"
     ]
    }
   ],
   "source": [
    "register_performance((Xb_train_norm, yb_train), (Xb_test_norm, yb_test), svm_poly, 'svm_poly')"
   ]
  },
  {
   "cell_type": "code",
   "execution_count": 30,
   "metadata": {},
   "outputs": [],
   "source": [
    "pred_hits['svm_poly'] = svm_poly.predict(Xb_test_norm) == yb_test"
   ]
  },
  {
   "cell_type": "markdown",
   "metadata": {},
   "source": [
    "### Support Vector Machine - RBF\n",
    "(SVM)"
   ]
  },
  {
   "cell_type": "code",
   "execution_count": 31,
   "metadata": {},
   "outputs": [],
   "source": [
    "svm_rbf = SVC(kernel='rbf', probability=True, random_state=seed).fit(Xb_train_norm, yb_train)"
   ]
  },
  {
   "cell_type": "code",
   "execution_count": 32,
   "metadata": {},
   "outputs": [
    {
     "name": "stdout",
     "output_type": "stream",
     "text": [
      "[Training]\n",
      "\n",
      "Accuracy:         0.9362\n",
      "Recall:           0.8649\n",
      "Precision:        0.9697\n",
      "F1:               0.9143\n",
      "AUROC:            0.9749\n",
      "AUPR:             0.9735\n",
      "1-maxProb média:  0.1365\n",
      "1-maxProb dp:     0.0966\n",
      "\n",
      "[Testing]\n",
      "\n",
      "Accuracy:         0.8211\n",
      "Recall:           0.7234\n",
      "Precision:        0.8947\n",
      "F1:               0.8000\n",
      "AUROC:            0.9047\n",
      "AUPR:             0.9081\n",
      "1-maxProb média:  0.2054\n",
      "1-maxProb dp:     0.1366\n"
     ]
    }
   ],
   "source": [
    "register_performance((Xb_train_norm, yb_train), (Xb_test_norm, yb_test), svm_rbf, 'svm_rbf')"
   ]
  },
  {
   "cell_type": "code",
   "execution_count": 33,
   "metadata": {},
   "outputs": [],
   "source": [
    "pred_hits['svm_rbf'] = svm_rbf.predict(Xb_test_norm) == yb_test"
   ]
  },
  {
   "cell_type": "markdown",
   "metadata": {},
   "source": [
    "### Multi-Layer Perceptron\n",
    "(MLP)"
   ]
  },
  {
   "cell_type": "code",
   "execution_count": 34,
   "metadata": {},
   "outputs": [],
   "source": [
    "mlp = MLPClassifier(max_iter=1000, n_iter_no_change=20, random_state=seed).fit(Xb_train_norm, yb_train)"
   ]
  },
  {
   "cell_type": "code",
   "execution_count": 35,
   "metadata": {},
   "outputs": [
    {
     "name": "stdout",
     "output_type": "stream",
     "text": [
      "[Training]\n",
      "\n",
      "Accuracy:         1.0000\n",
      "Recall:           1.0000\n",
      "Precision:        1.0000\n",
      "F1:               1.0000\n",
      "AUROC:            1.0000\n",
      "AUPR:             1.0000\n",
      "1-maxProb média:  0.0180\n",
      "1-maxProb dp:     0.0270\n",
      "\n",
      "[Testing]\n",
      "\n",
      "Accuracy:         0.8211\n",
      "Recall:           0.7660\n",
      "Precision:        0.8571\n",
      "F1:               0.8090\n",
      "AUROC:            0.8896\n",
      "AUPR:             0.8995\n",
      "1-maxProb média:  0.0854\n",
      "1-maxProb dp:     0.1411\n"
     ]
    }
   ],
   "source": [
    "register_performance((Xb_train_norm, yb_train), (Xb_test_norm, yb_test), mlp, 'mlp')"
   ]
  },
  {
   "cell_type": "code",
   "execution_count": 36,
   "metadata": {},
   "outputs": [],
   "source": [
    "pred_hits['mlp'] = mlp.predict(Xb_test_norm) == yb_test"
   ]
  },
  {
   "cell_type": "markdown",
   "metadata": {},
   "source": [
    "### Kolmogorov-Arnold Network\n",
    "(KAN)"
   ]
  },
  {
   "cell_type": "code",
   "execution_count": 37,
   "metadata": {},
   "outputs": [
    {
     "name": "stderr",
     "output_type": "stream",
     "text": [
      "| train_loss: 4.90e-01 | test_loss: 6.59e-01 | reg: 4.52e+01 | : 100%|█| 20/20 [00:30<00:00,  1.53s/\n"
     ]
    }
   ],
   "source": [
    "dataset = {'train_input': Xb_train_norm,\n",
    "           'train_label': yb_train,\n",
    "           'test_input': Xb_test_norm,\n",
    "           'test_label': yb_test}\n",
    "\n",
    "kanet = KANClassifier([13,200,2], lr=0.0001, lamb=0.005, random_state=seed)\n",
    "kanet = kanet.fit(dataset)"
   ]
  },
  {
   "cell_type": "code",
   "execution_count": 38,
   "metadata": {},
   "outputs": [
    {
     "name": "stdout",
     "output_type": "stream",
     "text": [
      "[Training]\n",
      "\n",
      "Accuracy:         0.8936\n",
      "Recall:           0.8108\n",
      "Precision:        0.9091\n",
      "F1:               0.8571\n",
      "AUROC:            0.9706\n",
      "AUPR:             0.9589\n",
      "1-maxProb média:  0.1440\n",
      "1-maxProb dp:     0.1368\n",
      "\n",
      "[Testing]\n",
      "\n",
      "Accuracy:         0.8000\n",
      "Recall:           0.7872\n",
      "Precision:        0.8043\n",
      "F1:               0.7957\n",
      "AUROC:            0.8905\n",
      "AUPR:             0.8950\n",
      "1-maxProb média:  0.1712\n",
      "1-maxProb dp:     0.1641\n"
     ]
    }
   ],
   "source": [
    "register_performance((Xb_train_norm, yb_train), (Xb_test_norm, yb_test), kanet, 'kan')"
   ]
  },
  {
   "cell_type": "code",
   "execution_count": 39,
   "metadata": {},
   "outputs": [],
   "source": [
    "pred_hits['kan'] = kanet.predict(Xb_test_norm) == yb_test"
   ]
  },
  {
   "cell_type": "markdown",
   "metadata": {},
   "source": [
    "### Random Forest"
   ]
  },
  {
   "cell_type": "code",
   "execution_count": 40,
   "metadata": {},
   "outputs": [],
   "source": [
    "rforest = RandomForestClassifier(random_state=seed, n_jobs=-1).fit(Xb_train, yb_train)"
   ]
  },
  {
   "cell_type": "code",
   "execution_count": 41,
   "metadata": {},
   "outputs": [
    {
     "name": "stdout",
     "output_type": "stream",
     "text": [
      "[Training]\n",
      "\n",
      "Accuracy:         1.0000\n",
      "Recall:           1.0000\n",
      "Precision:        1.0000\n",
      "F1:               1.0000\n",
      "AUROC:            1.0000\n",
      "AUPR:             1.0000\n",
      "1-maxProb média:  0.1082\n",
      "1-maxProb dp:     0.0896\n",
      "\n",
      "[Testing]\n",
      "\n",
      "Accuracy:         0.8000\n",
      "Recall:           0.7021\n",
      "Precision:        0.8684\n",
      "F1:               0.7765\n",
      "AUROC:            0.8703\n",
      "AUPR:             0.8840\n",
      "1-maxProb média:  0.2174\n",
      "1-maxProb dp:     0.1461\n"
     ]
    }
   ],
   "source": [
    "register_performance((Xb_train, yb_train), (Xb_test, yb_test), rforest, 'rforest')"
   ]
  },
  {
   "cell_type": "code",
   "execution_count": 42,
   "metadata": {},
   "outputs": [],
   "source": [
    "pred_hits['rforest'] = rforest.predict(Xb_test) == yb_test"
   ]
  },
  {
   "cell_type": "markdown",
   "metadata": {},
   "source": [
    "### Gradient Boosting"
   ]
  },
  {
   "cell_type": "code",
   "execution_count": 43,
   "metadata": {},
   "outputs": [],
   "source": [
    "gb = GradientBoostingClassifier(random_state=seed).fit(Xb_train, yb_train)"
   ]
  },
  {
   "cell_type": "code",
   "execution_count": 44,
   "metadata": {},
   "outputs": [
    {
     "name": "stdout",
     "output_type": "stream",
     "text": [
      "[Training]\n",
      "\n",
      "Accuracy:         1.0000\n",
      "Recall:           1.0000\n",
      "Precision:        1.0000\n",
      "F1:               1.0000\n",
      "AUROC:            1.0000\n",
      "AUPR:             1.0000\n",
      "1-maxProb média:  0.0131\n",
      "1-maxProb dp:     0.0132\n",
      "\n",
      "[Testing]\n",
      "\n",
      "Accuracy:         0.7684\n",
      "Recall:           0.7234\n",
      "Precision:        0.7907\n",
      "F1:               0.7556\n",
      "AUROC:            0.8426\n",
      "AUPR:             0.8680\n",
      "1-maxProb média:  0.0858\n",
      "1-maxProb dp:     0.1229\n"
     ]
    }
   ],
   "source": [
    "register_performance((Xb_train, yb_train), (Xb_test, yb_test), gb, 'gb')"
   ]
  },
  {
   "cell_type": "code",
   "execution_count": 45,
   "metadata": {},
   "outputs": [],
   "source": [
    "pred_hits['gb'] = gb.predict(Xb_test) == yb_test"
   ]
  },
  {
   "cell_type": "markdown",
   "metadata": {},
   "source": [
    "### AdaBoost"
   ]
  },
  {
   "cell_type": "code",
   "execution_count": 46,
   "metadata": {},
   "outputs": [
    {
     "name": "stderr",
     "output_type": "stream",
     "text": [
      "c:\\Users\\pedro\\pyenvs\\mainpy\\Lib\\site-packages\\sklearn\\ensemble\\_weight_boosting.py:527: FutureWarning: The SAMME.R algorithm (the default) is deprecated and will be removed in 1.6. Use the SAMME algorithm to circumvent this warning.\n",
      "  warnings.warn(\n"
     ]
    }
   ],
   "source": [
    "adab = AdaBoostClassifier(random_state=seed).fit(Xb_train, yb_train)"
   ]
  },
  {
   "cell_type": "code",
   "execution_count": 47,
   "metadata": {},
   "outputs": [
    {
     "name": "stdout",
     "output_type": "stream",
     "text": [
      "[Training]\n",
      "\n",
      "Accuracy:         1.0000\n",
      "Recall:           1.0000\n",
      "Precision:        1.0000\n",
      "F1:               1.0000\n",
      "AUROC:            1.0000\n",
      "AUPR:             1.0000\n",
      "1-maxProb média:  0.4535\n",
      "1-maxProb dp:     0.0333\n",
      "\n",
      "[Testing]\n",
      "\n",
      "Accuracy:         0.7579\n",
      "Recall:           0.7660\n",
      "Precision:        0.7500\n",
      "F1:               0.7579\n",
      "AUROC:            0.8050\n",
      "AUPR:             0.8173\n",
      "1-maxProb média:  0.4632\n",
      "1-maxProb dp:     0.0286\n"
     ]
    }
   ],
   "source": [
    "register_performance((Xb_train, yb_train), (Xb_test, yb_test), adab, 'adab')"
   ]
  },
  {
   "cell_type": "code",
   "execution_count": 48,
   "metadata": {},
   "outputs": [],
   "source": [
    "pred_hits['adab'] = adab.predict(Xb_test) == yb_test"
   ]
  },
  {
   "cell_type": "markdown",
   "metadata": {},
   "source": [
    "### XGBoost"
   ]
  },
  {
   "cell_type": "code",
   "execution_count": 49,
   "metadata": {},
   "outputs": [],
   "source": [
    "xgb = XGBClassifier(random_state=seed).fit(Xb_train, yb_train)"
   ]
  },
  {
   "cell_type": "code",
   "execution_count": 50,
   "metadata": {},
   "outputs": [
    {
     "name": "stdout",
     "output_type": "stream",
     "text": [
      "[Training]\n",
      "\n",
      "Accuracy:         1.0000\n",
      "Recall:           1.0000\n",
      "Precision:        1.0000\n",
      "F1:               1.0000\n",
      "AUROC:            1.0000\n",
      "AUPR:             1.0000\n",
      "1-maxProb média:  0.0380\n",
      "1-maxProb dp:     0.0531\n",
      "\n",
      "[Testing]\n",
      "\n",
      "Accuracy:         0.7474\n",
      "Recall:           0.7234\n",
      "Precision:        0.7556\n",
      "F1:               0.7391\n",
      "AUROC:            0.8568\n",
      "AUPR:             0.8714\n",
      "1-maxProb média:  0.0989\n",
      "1-maxProb dp:     0.1435\n"
     ]
    }
   ],
   "source": [
    "register_performance((Xb_train, yb_train), (Xb_test, yb_test), xgb, 'xgb')"
   ]
  },
  {
   "cell_type": "code",
   "execution_count": 51,
   "metadata": {},
   "outputs": [],
   "source": [
    "pred_hits['xgb'] = xgb.predict(Xb_test) == yb_test"
   ]
  },
  {
   "cell_type": "markdown",
   "metadata": {},
   "source": [
    "## Análise de Correlações"
   ]
  },
  {
   "cell_type": "code",
   "execution_count": 52,
   "metadata": {},
   "outputs": [
    {
     "data": {
      "text/html": [
       "<div>\n",
       "<style scoped>\n",
       "    .dataframe tbody tr th:only-of-type {\n",
       "        vertical-align: middle;\n",
       "    }\n",
       "\n",
       "    .dataframe tbody tr th {\n",
       "        vertical-align: top;\n",
       "    }\n",
       "\n",
       "    .dataframe thead th {\n",
       "        text-align: right;\n",
       "    }\n",
       "</style>\n",
       "<table border=\"1\" class=\"dataframe\">\n",
       "  <thead>\n",
       "    <tr style=\"text-align: right;\">\n",
       "      <th></th>\n",
       "      <th>dtree</th>\n",
       "      <th>sgd</th>\n",
       "      <th>lr</th>\n",
       "      <th>knn</th>\n",
       "      <th>svm_linear</th>\n",
       "      <th>svm_poly</th>\n",
       "      <th>svm_rbf</th>\n",
       "      <th>mlp</th>\n",
       "      <th>kan</th>\n",
       "      <th>rforest</th>\n",
       "      <th>gb</th>\n",
       "      <th>adab</th>\n",
       "      <th>xgb</th>\n",
       "    </tr>\n",
       "  </thead>\n",
       "  <tbody>\n",
       "    <tr>\n",
       "      <th>dtree</th>\n",
       "      <td>1.000000</td>\n",
       "      <td>0.778947</td>\n",
       "      <td>0.778947</td>\n",
       "      <td>0.778947</td>\n",
       "      <td>0.800000</td>\n",
       "      <td>0.736842</td>\n",
       "      <td>0.831579</td>\n",
       "      <td>0.789474</td>\n",
       "      <td>0.789474</td>\n",
       "      <td>0.810526</td>\n",
       "      <td>0.800000</td>\n",
       "      <td>0.789474</td>\n",
       "      <td>0.821053</td>\n",
       "    </tr>\n",
       "    <tr>\n",
       "      <th>sgd</th>\n",
       "      <td>0.778947</td>\n",
       "      <td>1.000000</td>\n",
       "      <td>0.894737</td>\n",
       "      <td>0.873684</td>\n",
       "      <td>0.873684</td>\n",
       "      <td>0.810526</td>\n",
       "      <td>0.863158</td>\n",
       "      <td>0.863158</td>\n",
       "      <td>0.863158</td>\n",
       "      <td>0.821053</td>\n",
       "      <td>0.747368</td>\n",
       "      <td>0.800000</td>\n",
       "      <td>0.768421</td>\n",
       "    </tr>\n",
       "    <tr>\n",
       "      <th>lr</th>\n",
       "      <td>0.778947</td>\n",
       "      <td>0.894737</td>\n",
       "      <td>1.000000</td>\n",
       "      <td>0.894737</td>\n",
       "      <td>0.936842</td>\n",
       "      <td>0.831579</td>\n",
       "      <td>0.905263</td>\n",
       "      <td>0.926316</td>\n",
       "      <td>0.926316</td>\n",
       "      <td>0.884211</td>\n",
       "      <td>0.852632</td>\n",
       "      <td>0.842105</td>\n",
       "      <td>0.831579</td>\n",
       "    </tr>\n",
       "    <tr>\n",
       "      <th>knn</th>\n",
       "      <td>0.778947</td>\n",
       "      <td>0.873684</td>\n",
       "      <td>0.894737</td>\n",
       "      <td>1.000000</td>\n",
       "      <td>0.894737</td>\n",
       "      <td>0.873684</td>\n",
       "      <td>0.926316</td>\n",
       "      <td>0.947368</td>\n",
       "      <td>0.863158</td>\n",
       "      <td>0.905263</td>\n",
       "      <td>0.852632</td>\n",
       "      <td>0.821053</td>\n",
       "      <td>0.831579</td>\n",
       "    </tr>\n",
       "    <tr>\n",
       "      <th>svm_linear</th>\n",
       "      <td>0.800000</td>\n",
       "      <td>0.873684</td>\n",
       "      <td>0.936842</td>\n",
       "      <td>0.894737</td>\n",
       "      <td>1.000000</td>\n",
       "      <td>0.831579</td>\n",
       "      <td>0.947368</td>\n",
       "      <td>0.926316</td>\n",
       "      <td>0.884211</td>\n",
       "      <td>0.905263</td>\n",
       "      <td>0.873684</td>\n",
       "      <td>0.842105</td>\n",
       "      <td>0.831579</td>\n",
       "    </tr>\n",
       "    <tr>\n",
       "      <th>svm_poly</th>\n",
       "      <td>0.736842</td>\n",
       "      <td>0.810526</td>\n",
       "      <td>0.831579</td>\n",
       "      <td>0.873684</td>\n",
       "      <td>0.831579</td>\n",
       "      <td>1.000000</td>\n",
       "      <td>0.884211</td>\n",
       "      <td>0.842105</td>\n",
       "      <td>0.800000</td>\n",
       "      <td>0.863158</td>\n",
       "      <td>0.789474</td>\n",
       "      <td>0.757895</td>\n",
       "      <td>0.768421</td>\n",
       "    </tr>\n",
       "    <tr>\n",
       "      <th>svm_rbf</th>\n",
       "      <td>0.831579</td>\n",
       "      <td>0.863158</td>\n",
       "      <td>0.905263</td>\n",
       "      <td>0.926316</td>\n",
       "      <td>0.947368</td>\n",
       "      <td>0.884211</td>\n",
       "      <td>1.000000</td>\n",
       "      <td>0.957895</td>\n",
       "      <td>0.873684</td>\n",
       "      <td>0.936842</td>\n",
       "      <td>0.884211</td>\n",
       "      <td>0.852632</td>\n",
       "      <td>0.863158</td>\n",
       "    </tr>\n",
       "    <tr>\n",
       "      <th>mlp</th>\n",
       "      <td>0.789474</td>\n",
       "      <td>0.863158</td>\n",
       "      <td>0.926316</td>\n",
       "      <td>0.947368</td>\n",
       "      <td>0.926316</td>\n",
       "      <td>0.842105</td>\n",
       "      <td>0.957895</td>\n",
       "      <td>1.000000</td>\n",
       "      <td>0.873684</td>\n",
       "      <td>0.894737</td>\n",
       "      <td>0.863158</td>\n",
       "      <td>0.831579</td>\n",
       "      <td>0.842105</td>\n",
       "    </tr>\n",
       "    <tr>\n",
       "      <th>kan</th>\n",
       "      <td>0.789474</td>\n",
       "      <td>0.863158</td>\n",
       "      <td>0.926316</td>\n",
       "      <td>0.863158</td>\n",
       "      <td>0.884211</td>\n",
       "      <td>0.800000</td>\n",
       "      <td>0.873684</td>\n",
       "      <td>0.873684</td>\n",
       "      <td>1.000000</td>\n",
       "      <td>0.873684</td>\n",
       "      <td>0.863158</td>\n",
       "      <td>0.873684</td>\n",
       "      <td>0.842105</td>\n",
       "    </tr>\n",
       "    <tr>\n",
       "      <th>rforest</th>\n",
       "      <td>0.810526</td>\n",
       "      <td>0.821053</td>\n",
       "      <td>0.884211</td>\n",
       "      <td>0.905263</td>\n",
       "      <td>0.905263</td>\n",
       "      <td>0.863158</td>\n",
       "      <td>0.936842</td>\n",
       "      <td>0.894737</td>\n",
       "      <td>0.873684</td>\n",
       "      <td>1.000000</td>\n",
       "      <td>0.905263</td>\n",
       "      <td>0.894737</td>\n",
       "      <td>0.884211</td>\n",
       "    </tr>\n",
       "    <tr>\n",
       "      <th>gb</th>\n",
       "      <td>0.800000</td>\n",
       "      <td>0.747368</td>\n",
       "      <td>0.852632</td>\n",
       "      <td>0.852632</td>\n",
       "      <td>0.873684</td>\n",
       "      <td>0.789474</td>\n",
       "      <td>0.884211</td>\n",
       "      <td>0.863158</td>\n",
       "      <td>0.863158</td>\n",
       "      <td>0.905263</td>\n",
       "      <td>1.000000</td>\n",
       "      <td>0.884211</td>\n",
       "      <td>0.873684</td>\n",
       "    </tr>\n",
       "    <tr>\n",
       "      <th>adab</th>\n",
       "      <td>0.789474</td>\n",
       "      <td>0.800000</td>\n",
       "      <td>0.842105</td>\n",
       "      <td>0.821053</td>\n",
       "      <td>0.842105</td>\n",
       "      <td>0.757895</td>\n",
       "      <td>0.852632</td>\n",
       "      <td>0.831579</td>\n",
       "      <td>0.873684</td>\n",
       "      <td>0.894737</td>\n",
       "      <td>0.884211</td>\n",
       "      <td>1.000000</td>\n",
       "      <td>0.926316</td>\n",
       "    </tr>\n",
       "    <tr>\n",
       "      <th>xgb</th>\n",
       "      <td>0.821053</td>\n",
       "      <td>0.768421</td>\n",
       "      <td>0.831579</td>\n",
       "      <td>0.831579</td>\n",
       "      <td>0.831579</td>\n",
       "      <td>0.768421</td>\n",
       "      <td>0.863158</td>\n",
       "      <td>0.842105</td>\n",
       "      <td>0.842105</td>\n",
       "      <td>0.884211</td>\n",
       "      <td>0.873684</td>\n",
       "      <td>0.926316</td>\n",
       "      <td>1.000000</td>\n",
       "    </tr>\n",
       "  </tbody>\n",
       "</table>\n",
       "</div>"
      ],
      "text/plain": [
       "               dtree       sgd        lr       knn  svm_linear  svm_poly  \\\n",
       "dtree       1.000000  0.778947  0.778947  0.778947    0.800000  0.736842   \n",
       "sgd         0.778947  1.000000  0.894737  0.873684    0.873684  0.810526   \n",
       "lr          0.778947  0.894737  1.000000  0.894737    0.936842  0.831579   \n",
       "knn         0.778947  0.873684  0.894737  1.000000    0.894737  0.873684   \n",
       "svm_linear  0.800000  0.873684  0.936842  0.894737    1.000000  0.831579   \n",
       "svm_poly    0.736842  0.810526  0.831579  0.873684    0.831579  1.000000   \n",
       "svm_rbf     0.831579  0.863158  0.905263  0.926316    0.947368  0.884211   \n",
       "mlp         0.789474  0.863158  0.926316  0.947368    0.926316  0.842105   \n",
       "kan         0.789474  0.863158  0.926316  0.863158    0.884211  0.800000   \n",
       "rforest     0.810526  0.821053  0.884211  0.905263    0.905263  0.863158   \n",
       "gb          0.800000  0.747368  0.852632  0.852632    0.873684  0.789474   \n",
       "adab        0.789474  0.800000  0.842105  0.821053    0.842105  0.757895   \n",
       "xgb         0.821053  0.768421  0.831579  0.831579    0.831579  0.768421   \n",
       "\n",
       "             svm_rbf       mlp       kan   rforest        gb      adab  \\\n",
       "dtree       0.831579  0.789474  0.789474  0.810526  0.800000  0.789474   \n",
       "sgd         0.863158  0.863158  0.863158  0.821053  0.747368  0.800000   \n",
       "lr          0.905263  0.926316  0.926316  0.884211  0.852632  0.842105   \n",
       "knn         0.926316  0.947368  0.863158  0.905263  0.852632  0.821053   \n",
       "svm_linear  0.947368  0.926316  0.884211  0.905263  0.873684  0.842105   \n",
       "svm_poly    0.884211  0.842105  0.800000  0.863158  0.789474  0.757895   \n",
       "svm_rbf     1.000000  0.957895  0.873684  0.936842  0.884211  0.852632   \n",
       "mlp         0.957895  1.000000  0.873684  0.894737  0.863158  0.831579   \n",
       "kan         0.873684  0.873684  1.000000  0.873684  0.863158  0.873684   \n",
       "rforest     0.936842  0.894737  0.873684  1.000000  0.905263  0.894737   \n",
       "gb          0.884211  0.863158  0.863158  0.905263  1.000000  0.884211   \n",
       "adab        0.852632  0.831579  0.873684  0.894737  0.884211  1.000000   \n",
       "xgb         0.863158  0.842105  0.842105  0.884211  0.873684  0.926316   \n",
       "\n",
       "                 xgb  \n",
       "dtree       0.821053  \n",
       "sgd         0.768421  \n",
       "lr          0.831579  \n",
       "knn         0.831579  \n",
       "svm_linear  0.831579  \n",
       "svm_poly    0.768421  \n",
       "svm_rbf     0.863158  \n",
       "mlp         0.842105  \n",
       "kan         0.842105  \n",
       "rforest     0.884211  \n",
       "gb          0.873684  \n",
       "adab        0.926316  \n",
       "xgb         1.000000  "
      ]
     },
     "execution_count": 52,
     "metadata": {},
     "output_type": "execute_result"
    }
   ],
   "source": [
    "pred_corrls = pd.DataFrame(columns=pred_hits.columns, index=pred_hits.columns, dtype=float)\n",
    "size_preds = len(pred_hits)\n",
    "\n",
    "for m in pred_hits.columns:\n",
    "    for n in pred_hits.columns:\n",
    "        pred_corrls.at[m,n] = ((pred_hits[m] == pred_hits[n]).sum())/size_preds\n",
    "\n",
    "pred_corrls"
   ]
  },
  {
   "cell_type": "code",
   "execution_count": 53,
   "metadata": {},
   "outputs": [
    {
     "data": {
      "image/png": "[encoded data removed]",
      "text/plain": [
       "<Figure size 2000x800 with 2 Axes>"
      ]
     },
     "metadata": {},
     "output_type": "display_data"
    }
   ],
   "source": [
    "plt.figure(figsize=(20,8))\n",
    "hm = sns.heatmap(pred_corrls, annot=True)\n",
    "hm.xaxis.tick_top()"
   ]
  },
  {
   "cell_type": "code",
   "execution_count": 54,
   "metadata": {},
   "outputs": [
    {
     "data": {
      "text/html": [
       "<div>\n",
       "<style scoped>\n",
       "    .dataframe tbody tr th:only-of-type {\n",
       "        vertical-align: middle;\n",
       "    }\n",
       "\n",
       "    .dataframe tbody tr th {\n",
       "        vertical-align: top;\n",
       "    }\n",
       "\n",
       "    .dataframe thead th {\n",
       "        text-align: right;\n",
       "    }\n",
       "</style>\n",
       "<table border=\"1\" class=\"dataframe\">\n",
       "  <thead>\n",
       "    <tr style=\"text-align: right;\">\n",
       "      <th></th>\n",
       "      <th>dtree</th>\n",
       "      <th>sgd</th>\n",
       "      <th>lr</th>\n",
       "      <th>knn</th>\n",
       "      <th>svm_linear</th>\n",
       "      <th>svm_poly</th>\n",
       "      <th>svm_rbf</th>\n",
       "      <th>mlp</th>\n",
       "      <th>kan</th>\n",
       "      <th>rforest</th>\n",
       "      <th>gb</th>\n",
       "      <th>adab</th>\n",
       "      <th>xgb</th>\n",
       "    </tr>\n",
       "  </thead>\n",
       "  <tbody>\n",
       "    <tr>\n",
       "      <th>dtree</th>\n",
       "      <td>1.000000</td>\n",
       "      <td>0.778947</td>\n",
       "      <td>0.778947</td>\n",
       "      <td>0.778947</td>\n",
       "      <td>0.800000</td>\n",
       "      <td>0.736842</td>\n",
       "      <td>0.831579</td>\n",
       "      <td>0.789474</td>\n",
       "      <td>0.789474</td>\n",
       "      <td>0.810526</td>\n",
       "      <td>0.800000</td>\n",
       "      <td>0.789474</td>\n",
       "      <td>0.821053</td>\n",
       "    </tr>\n",
       "    <tr>\n",
       "      <th>sgd</th>\n",
       "      <td>0.778947</td>\n",
       "      <td>1.000000</td>\n",
       "      <td>0.894737</td>\n",
       "      <td>0.873684</td>\n",
       "      <td>0.873684</td>\n",
       "      <td>0.810526</td>\n",
       "      <td>0.863158</td>\n",
       "      <td>0.863158</td>\n",
       "      <td>0.863158</td>\n",
       "      <td>0.821053</td>\n",
       "      <td>0.747368</td>\n",
       "      <td>0.800000</td>\n",
       "      <td>0.768421</td>\n",
       "    </tr>\n",
       "    <tr>\n",
       "      <th>lr</th>\n",
       "      <td>0.778947</td>\n",
       "      <td>0.894737</td>\n",
       "      <td>1.000000</td>\n",
       "      <td>0.894737</td>\n",
       "      <td>0.936842</td>\n",
       "      <td>0.831579</td>\n",
       "      <td>0.905263</td>\n",
       "      <td>0.926316</td>\n",
       "      <td>0.926316</td>\n",
       "      <td>0.884211</td>\n",
       "      <td>0.852632</td>\n",
       "      <td>0.842105</td>\n",
       "      <td>0.831579</td>\n",
       "    </tr>\n",
       "    <tr>\n",
       "      <th>knn</th>\n",
       "      <td>0.778947</td>\n",
       "      <td>0.873684</td>\n",
       "      <td>0.894737</td>\n",
       "      <td>1.000000</td>\n",
       "      <td>0.894737</td>\n",
       "      <td>0.873684</td>\n",
       "      <td>0.926316</td>\n",
       "      <td>0.947368</td>\n",
       "      <td>0.863158</td>\n",
       "      <td>0.905263</td>\n",
       "      <td>0.852632</td>\n",
       "      <td>0.821053</td>\n",
       "      <td>0.831579</td>\n",
       "    </tr>\n",
       "    <tr>\n",
       "      <th>svm_linear</th>\n",
       "      <td>0.800000</td>\n",
       "      <td>0.873684</td>\n",
       "      <td>0.936842</td>\n",
       "      <td>0.894737</td>\n",
       "      <td>1.000000</td>\n",
       "      <td>0.831579</td>\n",
       "      <td>0.947368</td>\n",
       "      <td>0.926316</td>\n",
       "      <td>0.884211</td>\n",
       "      <td>0.905263</td>\n",
       "      <td>0.873684</td>\n",
       "      <td>0.842105</td>\n",
       "      <td>0.831579</td>\n",
       "    </tr>\n",
       "    <tr>\n",
       "      <th>svm_poly</th>\n",
       "      <td>0.736842</td>\n",
       "      <td>0.810526</td>\n",
       "      <td>0.831579</td>\n",
       "      <td>0.873684</td>\n",
       "      <td>0.831579</td>\n",
       "      <td>1.000000</td>\n",
       "      <td>0.884211</td>\n",
       "      <td>0.842105</td>\n",
       "      <td>0.800000</td>\n",
       "      <td>0.863158</td>\n",
       "      <td>0.789474</td>\n",
       "      <td>0.757895</td>\n",
       "      <td>0.768421</td>\n",
       "    </tr>\n",
       "    <tr>\n",
       "      <th>svm_rbf</th>\n",
       "      <td>0.831579</td>\n",
       "      <td>0.863158</td>\n",
       "      <td>0.905263</td>\n",
       "      <td>0.926316</td>\n",
       "      <td>0.947368</td>\n",
       "      <td>0.884211</td>\n",
       "      <td>1.000000</td>\n",
       "      <td>0.957895</td>\n",
       "      <td>0.873684</td>\n",
       "      <td>0.936842</td>\n",
       "      <td>0.884211</td>\n",
       "      <td>0.852632</td>\n",
       "      <td>0.863158</td>\n",
       "    </tr>\n",
       "    <tr>\n",
       "      <th>mlp</th>\n",
       "      <td>0.789474</td>\n",
       "      <td>0.863158</td>\n",
       "      <td>0.926316</td>\n",
       "      <td>0.947368</td>\n",
       "      <td>0.926316</td>\n",
       "      <td>0.842105</td>\n",
       "      <td>0.957895</td>\n",
       "      <td>1.000000</td>\n",
       "      <td>0.873684</td>\n",
       "      <td>0.894737</td>\n",
       "      <td>0.863158</td>\n",
       "      <td>0.831579</td>\n",
       "      <td>0.842105</td>\n",
       "    </tr>\n",
       "    <tr>\n",
       "      <th>kan</th>\n",
       "      <td>0.789474</td>\n",
       "      <td>0.863158</td>\n",
       "      <td>0.926316</td>\n",
       "      <td>0.863158</td>\n",
       "      <td>0.884211</td>\n",
       "      <td>0.800000</td>\n",
       "      <td>0.873684</td>\n",
       "      <td>0.873684</td>\n",
       "      <td>1.000000</td>\n",
       "      <td>0.873684</td>\n",
       "      <td>0.863158</td>\n",
       "      <td>0.873684</td>\n",
       "      <td>0.842105</td>\n",
       "    </tr>\n",
       "    <tr>\n",
       "      <th>rforest</th>\n",
       "      <td>0.810526</td>\n",
       "      <td>0.821053</td>\n",
       "      <td>0.884211</td>\n",
       "      <td>0.905263</td>\n",
       "      <td>0.905263</td>\n",
       "      <td>0.863158</td>\n",
       "      <td>0.936842</td>\n",
       "      <td>0.894737</td>\n",
       "      <td>0.873684</td>\n",
       "      <td>1.000000</td>\n",
       "      <td>0.905263</td>\n",
       "      <td>0.894737</td>\n",
       "      <td>0.884211</td>\n",
       "    </tr>\n",
       "    <tr>\n",
       "      <th>gb</th>\n",
       "      <td>0.800000</td>\n",
       "      <td>0.747368</td>\n",
       "      <td>0.852632</td>\n",
       "      <td>0.852632</td>\n",
       "      <td>0.873684</td>\n",
       "      <td>0.789474</td>\n",
       "      <td>0.884211</td>\n",
       "      <td>0.863158</td>\n",
       "      <td>0.863158</td>\n",
       "      <td>0.905263</td>\n",
       "      <td>1.000000</td>\n",
       "      <td>0.884211</td>\n",
       "      <td>0.873684</td>\n",
       "    </tr>\n",
       "    <tr>\n",
       "      <th>adab</th>\n",
       "      <td>0.789474</td>\n",
       "      <td>0.800000</td>\n",
       "      <td>0.842105</td>\n",
       "      <td>0.821053</td>\n",
       "      <td>0.842105</td>\n",
       "      <td>0.757895</td>\n",
       "      <td>0.852632</td>\n",
       "      <td>0.831579</td>\n",
       "      <td>0.873684</td>\n",
       "      <td>0.894737</td>\n",
       "      <td>0.884211</td>\n",
       "      <td>1.000000</td>\n",
       "      <td>0.926316</td>\n",
       "    </tr>\n",
       "    <tr>\n",
       "      <th>xgb</th>\n",
       "      <td>0.821053</td>\n",
       "      <td>0.768421</td>\n",
       "      <td>0.831579</td>\n",
       "      <td>0.831579</td>\n",
       "      <td>0.831579</td>\n",
       "      <td>0.768421</td>\n",
       "      <td>0.863158</td>\n",
       "      <td>0.842105</td>\n",
       "      <td>0.842105</td>\n",
       "      <td>0.884211</td>\n",
       "      <td>0.873684</td>\n",
       "      <td>0.926316</td>\n",
       "      <td>1.000000</td>\n",
       "    </tr>\n",
       "  </tbody>\n",
       "</table>\n",
       "</div>"
      ],
      "text/plain": [
       "               dtree       sgd        lr       knn  svm_linear  svm_poly  \\\n",
       "dtree       1.000000  0.778947  0.778947  0.778947    0.800000  0.736842   \n",
       "sgd         0.778947  1.000000  0.894737  0.873684    0.873684  0.810526   \n",
       "lr          0.778947  0.894737  1.000000  0.894737    0.936842  0.831579   \n",
       "knn         0.778947  0.873684  0.894737  1.000000    0.894737  0.873684   \n",
       "svm_linear  0.800000  0.873684  0.936842  0.894737    1.000000  0.831579   \n",
       "svm_poly    0.736842  0.810526  0.831579  0.873684    0.831579  1.000000   \n",
       "svm_rbf     0.831579  0.863158  0.905263  0.926316    0.947368  0.884211   \n",
       "mlp         0.789474  0.863158  0.926316  0.947368    0.926316  0.842105   \n",
       "kan         0.789474  0.863158  0.926316  0.863158    0.884211  0.800000   \n",
       "rforest     0.810526  0.821053  0.884211  0.905263    0.905263  0.863158   \n",
       "gb          0.800000  0.747368  0.852632  0.852632    0.873684  0.789474   \n",
       "adab        0.789474  0.800000  0.842105  0.821053    0.842105  0.757895   \n",
       "xgb         0.821053  0.768421  0.831579  0.831579    0.831579  0.768421   \n",
       "\n",
       "             svm_rbf       mlp       kan   rforest        gb      adab  \\\n",
       "dtree       0.831579  0.789474  0.789474  0.810526  0.800000  0.789474   \n",
       "sgd         0.863158  0.863158  0.863158  0.821053  0.747368  0.800000   \n",
       "lr          0.905263  0.926316  0.926316  0.884211  0.852632  0.842105   \n",
       "knn         0.926316  0.947368  0.863158  0.905263  0.852632  0.821053   \n",
       "svm_linear  0.947368  0.926316  0.884211  0.905263  0.873684  0.842105   \n",
       "svm_poly    0.884211  0.842105  0.800000  0.863158  0.789474  0.757895   \n",
       "svm_rbf     1.000000  0.957895  0.873684  0.936842  0.884211  0.852632   \n",
       "mlp         0.957895  1.000000  0.873684  0.894737  0.863158  0.831579   \n",
       "kan         0.873684  0.873684  1.000000  0.873684  0.863158  0.873684   \n",
       "rforest     0.936842  0.894737  0.873684  1.000000  0.905263  0.894737   \n",
       "gb          0.884211  0.863158  0.863158  0.905263  1.000000  0.884211   \n",
       "adab        0.852632  0.831579  0.873684  0.894737  0.884211  1.000000   \n",
       "xgb         0.863158  0.842105  0.842105  0.884211  0.873684  0.926316   \n",
       "\n",
       "                 xgb  \n",
       "dtree       0.821053  \n",
       "sgd         0.768421  \n",
       "lr          0.831579  \n",
       "knn         0.831579  \n",
       "svm_linear  0.831579  \n",
       "svm_poly    0.768421  \n",
       "svm_rbf     0.863158  \n",
       "mlp         0.842105  \n",
       "kan         0.842105  \n",
       "rforest     0.884211  \n",
       "gb          0.873684  \n",
       "adab        0.926316  \n",
       "xgb         1.000000  "
      ]
     },
     "execution_count": 54,
     "metadata": {},
     "output_type": "execute_result"
    }
   ],
   "source": [
    "pred_corrls"
   ]
  },
  {
   "cell_type": "code",
   "execution_count": 55,
   "metadata": {},
   "outputs": [
    {
     "data": {
      "text/plain": [
       "count    169.000000\n",
       "mean       0.865961\n",
       "std        0.062534\n",
       "min        0.736842\n",
       "25%        0.831579\n",
       "50%        0.863158\n",
       "75%        0.894737\n",
       "max        1.000000\n",
       "dtype: float64"
      ]
     },
     "execution_count": 55,
     "metadata": {},
     "output_type": "execute_result"
    }
   ],
   "source": [
    "corrls_values = pd.Series(pred_corrls.values.reshape((169,)))\n",
    "corrls_values.describe()"
   ]
  },
  {
   "cell_type": "code",
   "execution_count": 57,
   "metadata": {},
   "outputs": [
    {
     "data": {
      "text/plain": [
       "<Axes: >"
      ]
     },
     "execution_count": 57,
     "metadata": {},
     "output_type": "execute_result"
    },
    {
     "data": {
      "image/png": "[encoded data removed]",
      "text/plain": [
       "<Figure size 640x480 with 1 Axes>"
      ]
     },
     "metadata": {},
     "output_type": "display_data"
    }
   ],
   "source": [
    "corrls_values.hist()"
   ]
  },
  {
   "cell_type": "markdown",
   "metadata": {},
   "source": [
    "Se for pegar um grupo para analisar, tentar usar como a correlação mínima entre previsões o 3º quantil, o que daria por volta de  (no caso atual)"
   ]
  },
  {
   "cell_type": "code",
   "execution_count": null,
   "metadata": {},
   "outputs": [
    {
     "ename": "AttributeError",
     "evalue": "'float' object has no attribute 'isna'",
     "output_type": "error",
     "traceback": [
      "\u001b[1;31m---------------------------------------------------------------------------\u001b[0m",
      "\u001b[1;31mAttributeError\u001b[0m                            Traceback (most recent call last)",
      "Cell \u001b[1;32mIn[65], line 1\u001b[0m\n\u001b[1;32m----> 1\u001b[0m \u001b[43m(\u001b[49m\u001b[43mnp\u001b[49m\u001b[38;5;241;43m.\u001b[39;49m\u001b[43mNAN\u001b[49m\u001b[43m)\u001b[49m\u001b[38;5;241;43m.\u001b[39;49m\u001b[43misna\u001b[49m()\n",
      "\u001b[1;31mAttributeError\u001b[0m: 'float' object has no attribute 'isna'"
     ]
    }
   ],
   "source": []
  },
  {
   "cell_type": "code",
   "execution_count": 100,
   "metadata": {},
   "outputs": [
    {
     "data": {
      "text/plain": [
       "[[1, 2], [2, 1], [3]]"
      ]
     },
     "execution_count": 100,
     "metadata": {},
     "output_type": "execute_result"
    }
   ],
   "source": [
    "all_listas = []\n",
    "\n",
    "def unsqueeze(lista):\n",
    "    global all_listas\n",
    "    if(type(lista[0])!=list):\n",
    "        all_listas.append(lista)\n",
    "    else:\n",
    "        if(len(lista)==1):\n",
    "            unsqueeze(lista[0])\n",
    "        else:\n",
    "            for i in range(len(lista)):\n",
    "                unsqueeze(lista[i])\n",
    "            \n",
    "        \n",
    "#def unsqueeze(lista):\n",
    "#    while\n",
    "                \n",
    "\n",
    "unsqueeze([[[[1,2]], [2,1]], [3]])\n",
    "\n",
    "all_listas"
   ]
  },
  {
   "cell_type": "code",
   "execution_count": 95,
   "metadata": {},
   "outputs": [
    {
     "data": {
      "text/plain": [
       "[[[1, 2], [2, 1]], [3]]"
      ]
     },
     "execution_count": 95,
     "metadata": {},
     "output_type": "execute_result"
    }
   ],
   "source": [
    "unsqueeze([[[1, 2], [2, 1]], [3]])"
   ]
  },
  {
   "cell_type": "code",
   "execution_count": 106,
   "metadata": {},
   "outputs": [],
   "source": [
    "def group_search_help(df:pd.DataFrame, min_score:int, models:list|set=None, base_group:list=[]):\n",
    "    if(models is None):\n",
    "        models = ['dtree', 'sgd', 'lr', 'knn', 'svm_linear', 'svm_poly', 'svm_rbf', 'mlp',\n",
    "                  'kan', 'rforest', 'gb', 'adab', 'xgb']\n",
    "    \n",
    "    if(len(base_group)==0):\n",
    "        base_group, models = models[:1], models[1:]\n",
    "    \n",
    "    output_groups = []\n",
    "\n",
    "    for m in models:\n",
    "        i = 0\n",
    "        check = True\n",
    "        while(check and i<len(base_group)):\n",
    "            corr = df.at[base_group[i],m]\n",
    "            if(np.isnan(corr)):\n",
    "                check = False\n",
    "            elif(corr < min_score):\n",
    "                check = False\n",
    "            i+=1\n",
    "        if(check):\n",
    "            temp = models.copy()\n",
    "            temp.remove(m)\n",
    "            output_groups.append(group_search_help(df, min_score, temp, base_group+[m]))\n",
    "\n",
    "    if(len(output_groups)==0):\n",
    "        return base_group\n",
    "\n",
    "    return output_groups\n",
    "\n",
    "\n",
    "\n",
    "\n",
    "def group_search(df:pd.DataFrame, min_score:int, models:list=None):\n",
    "    if(models is None):\n",
    "        models_dict = {'dtree':0, 'sgd':0, 'lr':0, 'knn':0, 'svm_linear':0, 'svm_poly':0, 'svm_rbf':0, 'mlp':0,\n",
    "                  'kan':0, 'rforest':0, 'gb':0, 'adab':0, 'xgb':0}\n",
    "        models = ['dtree', 'sgd', 'lr', 'knn', 'svm_linear', 'svm_poly', 'svm_rbf', 'mlp',\n",
    "                  'kan', 'rforest', 'gb', 'adab', 'xgb']\n",
    "    \n",
    "    df.map(lambda x: np.NAN if x<min_score else x)\n",
    "\n",
    "    groups = []\n",
    "    for i in range(len(models)):\n",
    "        groups.append(group_search_help(df, min_score, models[i:]))\n",
    "        #if(type(new_group[0])==list):\n",
    "        #groups += new_group\n",
    "        #for n in groups[-1]:\n",
    "        #    if(n in models):\n",
    "        #        models.remove(n)\n",
    "    return groups\n",
    "\n",
    "groups_list = []\n",
    "\n",
    "def unsqueeze(lista):\n",
    "    global groups_list\n",
    "    if(type(lista[0])!=list):\n",
    "        groups_list.append(lista)\n",
    "    else:\n",
    "        if(len(lista)==1):\n",
    "            unsqueeze(lista[0])\n",
    "        else:\n",
    "            for i in range(len(lista)):\n",
    "                unsqueeze(lista[i])"
   ]
  },
  {
   "cell_type": "code",
   "execution_count": 102,
   "metadata": {},
   "outputs": [
    {
     "name": "stdout",
     "output_type": "stream",
     "text": [
      "Min_score: 0.8947368421052632\n"
     ]
    },
    {
     "data": {
      "text/html": [
       "<div>\n",
       "<style scoped>\n",
       "    .dataframe tbody tr th:only-of-type {\n",
       "        vertical-align: middle;\n",
       "    }\n",
       "\n",
       "    .dataframe tbody tr th {\n",
       "        vertical-align: top;\n",
       "    }\n",
       "\n",
       "    .dataframe thead th {\n",
       "        text-align: right;\n",
       "    }\n",
       "</style>\n",
       "<table border=\"1\" class=\"dataframe\">\n",
       "  <thead>\n",
       "    <tr style=\"text-align: right;\">\n",
       "      <th></th>\n",
       "      <th>dtree</th>\n",
       "      <th>sgd</th>\n",
       "      <th>lr</th>\n",
       "      <th>knn</th>\n",
       "      <th>svm_linear</th>\n",
       "      <th>svm_poly</th>\n",
       "      <th>svm_rbf</th>\n",
       "      <th>mlp</th>\n",
       "      <th>kan</th>\n",
       "      <th>rforest</th>\n",
       "      <th>gb</th>\n",
       "      <th>adab</th>\n",
       "      <th>xgb</th>\n",
       "    </tr>\n",
       "  </thead>\n",
       "  <tbody>\n",
       "    <tr>\n",
       "      <th>dtree</th>\n",
       "      <td>NaN</td>\n",
       "      <td>NaN</td>\n",
       "      <td>NaN</td>\n",
       "      <td>NaN</td>\n",
       "      <td>NaN</td>\n",
       "      <td>NaN</td>\n",
       "      <td>NaN</td>\n",
       "      <td>NaN</td>\n",
       "      <td>NaN</td>\n",
       "      <td>NaN</td>\n",
       "      <td>NaN</td>\n",
       "      <td>NaN</td>\n",
       "      <td>NaN</td>\n",
       "    </tr>\n",
       "    <tr>\n",
       "      <th>sgd</th>\n",
       "      <td>NaN</td>\n",
       "      <td>NaN</td>\n",
       "      <td>0.894737</td>\n",
       "      <td>NaN</td>\n",
       "      <td>NaN</td>\n",
       "      <td>NaN</td>\n",
       "      <td>NaN</td>\n",
       "      <td>NaN</td>\n",
       "      <td>NaN</td>\n",
       "      <td>NaN</td>\n",
       "      <td>NaN</td>\n",
       "      <td>NaN</td>\n",
       "      <td>NaN</td>\n",
       "    </tr>\n",
       "    <tr>\n",
       "      <th>lr</th>\n",
       "      <td>NaN</td>\n",
       "      <td>0.894737</td>\n",
       "      <td>NaN</td>\n",
       "      <td>0.894737</td>\n",
       "      <td>0.936842</td>\n",
       "      <td>NaN</td>\n",
       "      <td>0.905263</td>\n",
       "      <td>0.926316</td>\n",
       "      <td>0.926316</td>\n",
       "      <td>NaN</td>\n",
       "      <td>NaN</td>\n",
       "      <td>NaN</td>\n",
       "      <td>NaN</td>\n",
       "    </tr>\n",
       "    <tr>\n",
       "      <th>knn</th>\n",
       "      <td>NaN</td>\n",
       "      <td>NaN</td>\n",
       "      <td>0.894737</td>\n",
       "      <td>NaN</td>\n",
       "      <td>0.894737</td>\n",
       "      <td>NaN</td>\n",
       "      <td>0.926316</td>\n",
       "      <td>0.947368</td>\n",
       "      <td>NaN</td>\n",
       "      <td>0.905263</td>\n",
       "      <td>NaN</td>\n",
       "      <td>NaN</td>\n",
       "      <td>NaN</td>\n",
       "    </tr>\n",
       "    <tr>\n",
       "      <th>svm_linear</th>\n",
       "      <td>NaN</td>\n",
       "      <td>NaN</td>\n",
       "      <td>0.936842</td>\n",
       "      <td>0.894737</td>\n",
       "      <td>NaN</td>\n",
       "      <td>NaN</td>\n",
       "      <td>0.947368</td>\n",
       "      <td>0.926316</td>\n",
       "      <td>NaN</td>\n",
       "      <td>0.905263</td>\n",
       "      <td>NaN</td>\n",
       "      <td>NaN</td>\n",
       "      <td>NaN</td>\n",
       "    </tr>\n",
       "    <tr>\n",
       "      <th>svm_poly</th>\n",
       "      <td>NaN</td>\n",
       "      <td>NaN</td>\n",
       "      <td>NaN</td>\n",
       "      <td>NaN</td>\n",
       "      <td>NaN</td>\n",
       "      <td>NaN</td>\n",
       "      <td>NaN</td>\n",
       "      <td>NaN</td>\n",
       "      <td>NaN</td>\n",
       "      <td>NaN</td>\n",
       "      <td>NaN</td>\n",
       "      <td>NaN</td>\n",
       "      <td>NaN</td>\n",
       "    </tr>\n",
       "    <tr>\n",
       "      <th>svm_rbf</th>\n",
       "      <td>NaN</td>\n",
       "      <td>NaN</td>\n",
       "      <td>0.905263</td>\n",
       "      <td>0.926316</td>\n",
       "      <td>0.947368</td>\n",
       "      <td>NaN</td>\n",
       "      <td>NaN</td>\n",
       "      <td>0.957895</td>\n",
       "      <td>NaN</td>\n",
       "      <td>0.936842</td>\n",
       "      <td>NaN</td>\n",
       "      <td>NaN</td>\n",
       "      <td>NaN</td>\n",
       "    </tr>\n",
       "    <tr>\n",
       "      <th>mlp</th>\n",
       "      <td>NaN</td>\n",
       "      <td>NaN</td>\n",
       "      <td>0.926316</td>\n",
       "      <td>0.947368</td>\n",
       "      <td>0.926316</td>\n",
       "      <td>NaN</td>\n",
       "      <td>0.957895</td>\n",
       "      <td>NaN</td>\n",
       "      <td>NaN</td>\n",
       "      <td>0.894737</td>\n",
       "      <td>NaN</td>\n",
       "      <td>NaN</td>\n",
       "      <td>NaN</td>\n",
       "    </tr>\n",
       "    <tr>\n",
       "      <th>kan</th>\n",
       "      <td>NaN</td>\n",
       "      <td>NaN</td>\n",
       "      <td>0.926316</td>\n",
       "      <td>NaN</td>\n",
       "      <td>NaN</td>\n",
       "      <td>NaN</td>\n",
       "      <td>NaN</td>\n",
       "      <td>NaN</td>\n",
       "      <td>NaN</td>\n",
       "      <td>NaN</td>\n",
       "      <td>NaN</td>\n",
       "      <td>NaN</td>\n",
       "      <td>NaN</td>\n",
       "    </tr>\n",
       "    <tr>\n",
       "      <th>rforest</th>\n",
       "      <td>NaN</td>\n",
       "      <td>NaN</td>\n",
       "      <td>NaN</td>\n",
       "      <td>0.905263</td>\n",
       "      <td>0.905263</td>\n",
       "      <td>NaN</td>\n",
       "      <td>0.936842</td>\n",
       "      <td>0.894737</td>\n",
       "      <td>NaN</td>\n",
       "      <td>NaN</td>\n",
       "      <td>0.905263</td>\n",
       "      <td>0.894737</td>\n",
       "      <td>NaN</td>\n",
       "    </tr>\n",
       "    <tr>\n",
       "      <th>gb</th>\n",
       "      <td>NaN</td>\n",
       "      <td>NaN</td>\n",
       "      <td>NaN</td>\n",
       "      <td>NaN</td>\n",
       "      <td>NaN</td>\n",
       "      <td>NaN</td>\n",
       "      <td>NaN</td>\n",
       "      <td>NaN</td>\n",
       "      <td>NaN</td>\n",
       "      <td>0.905263</td>\n",
       "      <td>NaN</td>\n",
       "      <td>NaN</td>\n",
       "      <td>NaN</td>\n",
       "    </tr>\n",
       "    <tr>\n",
       "      <th>adab</th>\n",
       "      <td>NaN</td>\n",
       "      <td>NaN</td>\n",
       "      <td>NaN</td>\n",
       "      <td>NaN</td>\n",
       "      <td>NaN</td>\n",
       "      <td>NaN</td>\n",
       "      <td>NaN</td>\n",
       "      <td>NaN</td>\n",
       "      <td>NaN</td>\n",
       "      <td>0.894737</td>\n",
       "      <td>NaN</td>\n",
       "      <td>NaN</td>\n",
       "      <td>0.926316</td>\n",
       "    </tr>\n",
       "    <tr>\n",
       "      <th>xgb</th>\n",
       "      <td>NaN</td>\n",
       "      <td>NaN</td>\n",
       "      <td>NaN</td>\n",
       "      <td>NaN</td>\n",
       "      <td>NaN</td>\n",
       "      <td>NaN</td>\n",
       "      <td>NaN</td>\n",
       "      <td>NaN</td>\n",
       "      <td>NaN</td>\n",
       "      <td>NaN</td>\n",
       "      <td>NaN</td>\n",
       "      <td>0.926316</td>\n",
       "      <td>NaN</td>\n",
       "    </tr>\n",
       "  </tbody>\n",
       "</table>\n",
       "</div>"
      ],
      "text/plain": [
       "            dtree       sgd        lr       knn  svm_linear  svm_poly  \\\n",
       "dtree         NaN       NaN       NaN       NaN         NaN       NaN   \n",
       "sgd           NaN       NaN  0.894737       NaN         NaN       NaN   \n",
       "lr            NaN  0.894737       NaN  0.894737    0.936842       NaN   \n",
       "knn           NaN       NaN  0.894737       NaN    0.894737       NaN   \n",
       "svm_linear    NaN       NaN  0.936842  0.894737         NaN       NaN   \n",
       "svm_poly      NaN       NaN       NaN       NaN         NaN       NaN   \n",
       "svm_rbf       NaN       NaN  0.905263  0.926316    0.947368       NaN   \n",
       "mlp           NaN       NaN  0.926316  0.947368    0.926316       NaN   \n",
       "kan           NaN       NaN  0.926316       NaN         NaN       NaN   \n",
       "rforest       NaN       NaN       NaN  0.905263    0.905263       NaN   \n",
       "gb            NaN       NaN       NaN       NaN         NaN       NaN   \n",
       "adab          NaN       NaN       NaN       NaN         NaN       NaN   \n",
       "xgb           NaN       NaN       NaN       NaN         NaN       NaN   \n",
       "\n",
       "             svm_rbf       mlp       kan   rforest        gb      adab  \\\n",
       "dtree            NaN       NaN       NaN       NaN       NaN       NaN   \n",
       "sgd              NaN       NaN       NaN       NaN       NaN       NaN   \n",
       "lr          0.905263  0.926316  0.926316       NaN       NaN       NaN   \n",
       "knn         0.926316  0.947368       NaN  0.905263       NaN       NaN   \n",
       "svm_linear  0.947368  0.926316       NaN  0.905263       NaN       NaN   \n",
       "svm_poly         NaN       NaN       NaN       NaN       NaN       NaN   \n",
       "svm_rbf          NaN  0.957895       NaN  0.936842       NaN       NaN   \n",
       "mlp         0.957895       NaN       NaN  0.894737       NaN       NaN   \n",
       "kan              NaN       NaN       NaN       NaN       NaN       NaN   \n",
       "rforest     0.936842  0.894737       NaN       NaN  0.905263  0.894737   \n",
       "gb               NaN       NaN       NaN  0.905263       NaN       NaN   \n",
       "adab             NaN       NaN       NaN  0.894737       NaN       NaN   \n",
       "xgb              NaN       NaN       NaN       NaN       NaN  0.926316   \n",
       "\n",
       "                 xgb  \n",
       "dtree            NaN  \n",
       "sgd              NaN  \n",
       "lr               NaN  \n",
       "knn              NaN  \n",
       "svm_linear       NaN  \n",
       "svm_poly         NaN  \n",
       "svm_rbf          NaN  \n",
       "mlp              NaN  \n",
       "kan              NaN  \n",
       "rforest          NaN  \n",
       "gb               NaN  \n",
       "adab        0.926316  \n",
       "xgb              NaN  "
      ]
     },
     "execution_count": 102,
     "metadata": {},
     "output_type": "execute_result"
    }
   ],
   "source": [
    "min_score = corrls_values.quantile(0.75)\n",
    "\n",
    "pred_corrls_min = pred_corrls.map(lambda x: np.NAN if (x<min_score) or (x==1) else x)\n",
    "\n",
    "print('Min_score:', min_score)\n",
    "\n",
    "pred_corrls_min"
   ]
  },
  {
   "cell_type": "code",
   "execution_count": 108,
   "metadata": {},
   "outputs": [
    {
     "data": {
      "text/plain": [
       "[['dtree'],\n",
       " ['sgd', 'lr'],\n",
       " ['lr', 'knn', 'svm_linear', 'svm_rbf', 'mlp'],\n",
       " ['lr', 'knn', 'svm_linear', 'mlp', 'svm_rbf'],\n",
       " ['lr', 'knn', 'svm_rbf', 'svm_linear', 'mlp'],\n",
       " ['lr', 'knn', 'svm_rbf', 'mlp', 'svm_linear'],\n",
       " ['lr', 'knn', 'mlp', 'svm_linear', 'svm_rbf'],\n",
       " ['lr', 'knn', 'mlp', 'svm_rbf', 'svm_linear'],\n",
       " ['lr', 'svm_linear', 'knn', 'svm_rbf', 'mlp'],\n",
       " ['lr', 'svm_linear', 'knn', 'mlp', 'svm_rbf'],\n",
       " ['lr', 'svm_linear', 'svm_rbf', 'knn', 'mlp'],\n",
       " ['lr', 'svm_linear', 'svm_rbf', 'mlp', 'knn'],\n",
       " ['lr', 'svm_linear', 'mlp', 'knn', 'svm_rbf'],\n",
       " ['lr', 'svm_linear', 'mlp', 'svm_rbf', 'knn'],\n",
       " ['lr', 'svm_rbf', 'knn', 'svm_linear', 'mlp'],\n",
       " ['lr', 'svm_rbf', 'knn', 'mlp', 'svm_linear'],\n",
       " ['lr', 'svm_rbf', 'svm_linear', 'knn', 'mlp'],\n",
       " ['lr', 'svm_rbf', 'svm_linear', 'mlp', 'knn'],\n",
       " ['lr', 'svm_rbf', 'mlp', 'knn', 'svm_linear'],\n",
       " ['lr', 'svm_rbf', 'mlp', 'svm_linear', 'knn'],\n",
       " ['lr', 'mlp', 'knn', 'svm_linear', 'svm_rbf'],\n",
       " ['lr', 'mlp', 'knn', 'svm_rbf', 'svm_linear'],\n",
       " ['lr', 'mlp', 'svm_linear', 'knn', 'svm_rbf'],\n",
       " ['lr', 'mlp', 'svm_linear', 'svm_rbf', 'knn'],\n",
       " ['lr', 'mlp', 'svm_rbf', 'knn', 'svm_linear'],\n",
       " ['lr', 'mlp', 'svm_rbf', 'svm_linear', 'knn'],\n",
       " ['lr', 'kan'],\n",
       " ['knn', 'svm_linear', 'svm_rbf', 'mlp', 'rforest'],\n",
       " ['knn', 'svm_linear', 'svm_rbf', 'rforest', 'mlp'],\n",
       " ['knn', 'svm_linear', 'mlp', 'svm_rbf', 'rforest'],\n",
       " ['knn', 'svm_linear', 'mlp', 'rforest', 'svm_rbf'],\n",
       " ['knn', 'svm_linear', 'rforest', 'svm_rbf', 'mlp'],\n",
       " ['knn', 'svm_linear', 'rforest', 'mlp', 'svm_rbf'],\n",
       " ['knn', 'svm_rbf', 'svm_linear', 'mlp', 'rforest'],\n",
       " ['knn', 'svm_rbf', 'svm_linear', 'rforest', 'mlp'],\n",
       " ['knn', 'svm_rbf', 'mlp', 'svm_linear', 'rforest'],\n",
       " ['knn', 'svm_rbf', 'mlp', 'rforest', 'svm_linear'],\n",
       " ['knn', 'svm_rbf', 'rforest', 'svm_linear', 'mlp'],\n",
       " ['knn', 'svm_rbf', 'rforest', 'mlp', 'svm_linear'],\n",
       " ['knn', 'mlp', 'svm_linear', 'svm_rbf', 'rforest'],\n",
       " ['knn', 'mlp', 'svm_linear', 'rforest', 'svm_rbf'],\n",
       " ['knn', 'mlp', 'svm_rbf', 'svm_linear', 'rforest'],\n",
       " ['knn', 'mlp', 'svm_rbf', 'rforest', 'svm_linear'],\n",
       " ['knn', 'mlp', 'rforest', 'svm_linear', 'svm_rbf'],\n",
       " ['knn', 'mlp', 'rforest', 'svm_rbf', 'svm_linear'],\n",
       " ['knn', 'rforest', 'svm_linear', 'svm_rbf', 'mlp'],\n",
       " ['knn', 'rforest', 'svm_linear', 'mlp', 'svm_rbf'],\n",
       " ['knn', 'rforest', 'svm_rbf', 'svm_linear', 'mlp'],\n",
       " ['knn', 'rforest', 'svm_rbf', 'mlp', 'svm_linear'],\n",
       " ['knn', 'rforest', 'mlp', 'svm_linear', 'svm_rbf'],\n",
       " ['knn', 'rforest', 'mlp', 'svm_rbf', 'svm_linear'],\n",
       " ['svm_linear', 'svm_rbf', 'mlp', 'rforest'],\n",
       " ['svm_linear', 'svm_rbf', 'rforest', 'mlp'],\n",
       " ['svm_linear', 'mlp', 'svm_rbf', 'rforest'],\n",
       " ['svm_linear', 'mlp', 'rforest', 'svm_rbf'],\n",
       " ['svm_linear', 'rforest', 'svm_rbf', 'mlp'],\n",
       " ['svm_linear', 'rforest', 'mlp', 'svm_rbf'],\n",
       " ['svm_poly'],\n",
       " ['svm_rbf', 'mlp', 'rforest'],\n",
       " ['svm_rbf', 'rforest', 'mlp'],\n",
       " ['mlp', 'rforest'],\n",
       " ['kan'],\n",
       " ['rforest', 'gb'],\n",
       " ['rforest', 'adab'],\n",
       " ['gb'],\n",
       " ['adab', 'xgb'],\n",
       " ['xgb']]"
      ]
     },
     "execution_count": 108,
     "metadata": {},
     "output_type": "execute_result"
    }
   ],
   "source": [
    "unsqueeze(group_search(pred_corrls_min, min_score))\n",
    "\n",
    "groups_list"
   ]
  },
  {
   "cell_type": "markdown",
   "metadata": {},
   "source": [
    "fazer com que todos os modelos do grupo tenham uma correlação acima do score mínimo entre todos eles? Ou fazer com que o próximo modelo encontrado do grupo tenha uma correlação acima do mínimo com o modelo mais recente?\n",
    "\n",
    "(provavelmente o primeiro)"
   ]
  },
  {
   "cell_type": "markdown",
   "metadata": {},
   "source": [
    "# Assessors"
   ]
  },
  {
   "cell_type": "markdown",
   "metadata": {},
   "source": [
    "## Globais"
   ]
  },
  {
   "cell_type": "markdown",
   "metadata": {},
   "source": [
    "### Regressor Chain\n",
    "(RC)"
   ]
  },
  {
   "cell_type": "code",
   "execution_count": null,
   "metadata": {},
   "outputs": [],
   "source": [
    "regchain = "
   ]
  },
  {
   "cell_type": "markdown",
   "metadata": {},
   "source": [
    "### Multi-Output Regressor \n",
    "(ST)"
   ]
  },
  {
   "cell_type": "code",
   "execution_count": null,
   "metadata": {},
   "outputs": [],
   "source": []
  },
  {
   "cell_type": "markdown",
   "metadata": {},
   "source": [
    "## Individuais"
   ]
  },
  {
   "cell_type": "code",
   "execution_count": null,
   "metadata": {},
   "outputs": [],
   "source": []
  },
  {
   "cell_type": "markdown",
   "metadata": {},
   "source": [
    "## Grupais"
   ]
  },
  {
   "cell_type": "code",
   "execution_count": null,
   "metadata": {},
   "outputs": [],
   "source": []
  }
 ],
 "metadata": {
  "kernelspec": {
   "display_name": "mainpy",
   "language": "python",
   "name": "python3"
  },
  "language_info": {
   "codemirror_mode": {
    "name": "ipython",
    "version": 3
   },
   "file_extension": ".py",
   "mimetype": "text/x-python",
   "name": "python",
   "nbconvert_exporter": "python",
   "pygments_lexer": "ipython3",
   "version": "3.12.2"
  }
 },
 "nbformat": 4,
 "nbformat_minor": 2
}
